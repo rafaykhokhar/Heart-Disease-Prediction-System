{
 "cells": [
  {
   "cell_type": "markdown",
   "id": "0ff30cba",
   "metadata": {},
   "source": [
    "##### Importing required libraries"
   ]
  },
  {
   "cell_type": "code",
   "execution_count": 1,
   "id": "fb773240",
   "metadata": {},
   "outputs": [],
   "source": [
    "import numpy as np\n",
    "import pandas as pd\n",
    "from sklearn.model_selection import train_test_split\n",
    "from sklearn.preprocessing import StandardScaler\n",
    "from sklearn.feature_selection import SelectKBest\n",
    "from sklearn.ensemble import RandomForestClassifier\n",
    "from sklearn.svm import SVC\n",
    "from sklearn.neighbors import KNeighborsClassifier\n",
    "from sklearn.tree import DecisionTreeClassifier \n",
    "from sklearn.metrics import accuracy_score, classification_report"
   ]
  },
  {
   "cell_type": "code",
   "execution_count": 16,
   "id": "2b1ca1e4",
   "metadata": {},
   "outputs": [],
   "source": [
    "from sklearn.linear_model import LogisticRegression"
   ]
  },
  {
   "cell_type": "markdown",
   "id": "99525466",
   "metadata": {},
   "source": [
    "###### Loading data set"
   ]
  },
  {
   "cell_type": "code",
   "execution_count": 2,
   "id": "4498fd26",
   "metadata": {},
   "outputs": [
    {
     "data": {
      "text/html": [
       "<div>\n",
       "<style scoped>\n",
       "    .dataframe tbody tr th:only-of-type {\n",
       "        vertical-align: middle;\n",
       "    }\n",
       "\n",
       "    .dataframe tbody tr th {\n",
       "        vertical-align: top;\n",
       "    }\n",
       "\n",
       "    .dataframe thead th {\n",
       "        text-align: right;\n",
       "    }\n",
       "</style>\n",
       "<table border=\"1\" class=\"dataframe\">\n",
       "  <thead>\n",
       "    <tr style=\"text-align: right;\">\n",
       "      <th></th>\n",
       "      <th>Unnamed: 0</th>\n",
       "      <th>age</th>\n",
       "      <th>sex</th>\n",
       "      <th>cp</th>\n",
       "      <th>trestbps</th>\n",
       "      <th>chol</th>\n",
       "      <th>fbs</th>\n",
       "      <th>restecg</th>\n",
       "      <th>thalach</th>\n",
       "      <th>exang</th>\n",
       "      <th>oldpeak</th>\n",
       "      <th>slope</th>\n",
       "      <th>ca</th>\n",
       "      <th>thal</th>\n",
       "      <th>target</th>\n",
       "    </tr>\n",
       "  </thead>\n",
       "  <tbody>\n",
       "    <tr>\n",
       "      <th>0</th>\n",
       "      <td>0</td>\n",
       "      <td>0.675325</td>\n",
       "      <td>1</td>\n",
       "      <td>0.0</td>\n",
       "      <td>0.625</td>\n",
       "      <td>0.375887</td>\n",
       "      <td>0</td>\n",
       "      <td>0.5</td>\n",
       "      <td>0.831683</td>\n",
       "      <td>0</td>\n",
       "      <td>0.161290</td>\n",
       "      <td>1.0</td>\n",
       "      <td>0.50</td>\n",
       "      <td>1.000000</td>\n",
       "      <td>0</td>\n",
       "    </tr>\n",
       "    <tr>\n",
       "      <th>1</th>\n",
       "      <td>1</td>\n",
       "      <td>0.688312</td>\n",
       "      <td>1</td>\n",
       "      <td>0.0</td>\n",
       "      <td>0.700</td>\n",
       "      <td>0.359929</td>\n",
       "      <td>1</td>\n",
       "      <td>0.0</td>\n",
       "      <td>0.767327</td>\n",
       "      <td>1</td>\n",
       "      <td>0.500000</td>\n",
       "      <td>0.0</td>\n",
       "      <td>0.00</td>\n",
       "      <td>1.000000</td>\n",
       "      <td>0</td>\n",
       "    </tr>\n",
       "    <tr>\n",
       "      <th>2</th>\n",
       "      <td>2</td>\n",
       "      <td>0.909091</td>\n",
       "      <td>1</td>\n",
       "      <td>0.0</td>\n",
       "      <td>0.725</td>\n",
       "      <td>0.308511</td>\n",
       "      <td>0</td>\n",
       "      <td>0.5</td>\n",
       "      <td>0.618812</td>\n",
       "      <td>1</td>\n",
       "      <td>0.419355</td>\n",
       "      <td>0.0</td>\n",
       "      <td>0.00</td>\n",
       "      <td>1.000000</td>\n",
       "      <td>0</td>\n",
       "    </tr>\n",
       "    <tr>\n",
       "      <th>3</th>\n",
       "      <td>3</td>\n",
       "      <td>0.792208</td>\n",
       "      <td>1</td>\n",
       "      <td>0.0</td>\n",
       "      <td>0.740</td>\n",
       "      <td>0.359929</td>\n",
       "      <td>0</td>\n",
       "      <td>0.5</td>\n",
       "      <td>0.797030</td>\n",
       "      <td>0</td>\n",
       "      <td>0.000000</td>\n",
       "      <td>1.0</td>\n",
       "      <td>0.25</td>\n",
       "      <td>1.000000</td>\n",
       "      <td>0</td>\n",
       "    </tr>\n",
       "    <tr>\n",
       "      <th>4</th>\n",
       "      <td>4</td>\n",
       "      <td>0.805195</td>\n",
       "      <td>0</td>\n",
       "      <td>0.0</td>\n",
       "      <td>0.690</td>\n",
       "      <td>0.521277</td>\n",
       "      <td>1</td>\n",
       "      <td>0.5</td>\n",
       "      <td>0.524752</td>\n",
       "      <td>0</td>\n",
       "      <td>0.306452</td>\n",
       "      <td>0.5</td>\n",
       "      <td>0.75</td>\n",
       "      <td>0.666667</td>\n",
       "      <td>0</td>\n",
       "    </tr>\n",
       "  </tbody>\n",
       "</table>\n",
       "</div>"
      ],
      "text/plain": [
       "   Unnamed: 0       age  sex   cp  trestbps      chol  fbs  restecg   thalach  \\\n",
       "0           0  0.675325    1  0.0     0.625  0.375887    0      0.5  0.831683   \n",
       "1           1  0.688312    1  0.0     0.700  0.359929    1      0.0  0.767327   \n",
       "2           2  0.909091    1  0.0     0.725  0.308511    0      0.5  0.618812   \n",
       "3           3  0.792208    1  0.0     0.740  0.359929    0      0.5  0.797030   \n",
       "4           4  0.805195    0  0.0     0.690  0.521277    1      0.5  0.524752   \n",
       "\n",
       "   exang   oldpeak  slope    ca      thal  target  \n",
       "0      0  0.161290    1.0  0.50  1.000000       0  \n",
       "1      1  0.500000    0.0  0.00  1.000000       0  \n",
       "2      1  0.419355    0.0  0.00  1.000000       0  \n",
       "3      0  0.000000    1.0  0.25  1.000000       0  \n",
       "4      0  0.306452    0.5  0.75  0.666667       0  "
      ]
     },
     "execution_count": 2,
     "metadata": {},
     "output_type": "execute_result"
    }
   ],
   "source": [
    "df = pd.read_csv('Model_data.csv')\n",
    "df.head()"
   ]
  },
  {
   "cell_type": "code",
   "execution_count": 6,
   "id": "6b007357",
   "metadata": {},
   "outputs": [],
   "source": [
    "# removing 'Unnamed: 0' column\n",
    "df.drop('Unnamed: 0', axis = 1, inplace = True)"
   ]
  },
  {
   "cell_type": "markdown",
   "id": "a802369a",
   "metadata": {},
   "source": [
    "**Separating features (X) and target variable (y)**"
   ]
  },
  {
   "cell_type": "code",
   "execution_count": 7,
   "id": "e95d2b32",
   "metadata": {},
   "outputs": [],
   "source": [
    "X = df.drop('target', axis = 1)\n",
    "y = df['target']"
   ]
  },
  {
   "cell_type": "code",
   "execution_count": 8,
   "id": "3c7b310c",
   "metadata": {},
   "outputs": [
    {
     "data": {
      "text/plain": [
       "(1025, 13)"
      ]
     },
     "execution_count": 8,
     "metadata": {},
     "output_type": "execute_result"
    }
   ],
   "source": [
    "X.shape"
   ]
  },
  {
   "cell_type": "code",
   "execution_count": 9,
   "id": "95d4159f",
   "metadata": {},
   "outputs": [
    {
     "data": {
      "text/plain": [
       "(1025,)"
      ]
     },
     "execution_count": 9,
     "metadata": {},
     "output_type": "execute_result"
    }
   ],
   "source": [
    "y.shape"
   ]
  },
  {
   "cell_type": "markdown",
   "id": "90b4b022",
   "metadata": {},
   "source": [
    "**Splitting the Data into train and test set**"
   ]
  },
  {
   "cell_type": "code",
   "execution_count": 10,
   "id": "da228acd",
   "metadata": {},
   "outputs": [],
   "source": [
    "X_train, X_test, y_train, y_test = train_test_split(X, y, test_size=0.3, random_state=42)"
   ]
  },
  {
   "cell_type": "code",
   "execution_count": 11,
   "id": "0e9a9686",
   "metadata": {},
   "outputs": [
    {
     "data": {
      "text/plain": [
       "((717, 13), (717,))"
      ]
     },
     "execution_count": 11,
     "metadata": {},
     "output_type": "execute_result"
    }
   ],
   "source": [
    "X_train.shape, y_train.shape"
   ]
  },
  {
   "cell_type": "code",
   "execution_count": 12,
   "id": "64fc609a",
   "metadata": {},
   "outputs": [
    {
     "data": {
      "text/plain": [
       "((308, 13), (308,))"
      ]
     },
     "execution_count": 12,
     "metadata": {},
     "output_type": "execute_result"
    }
   ],
   "source": [
    "X_test.shape, y_test.shape"
   ]
  },
  {
   "cell_type": "markdown",
   "id": "b4293cb4",
   "metadata": {},
   "source": [
    "**Implementing Classifiers**"
   ]
  },
  {
   "cell_type": "code",
   "execution_count": 14,
   "id": "e7edb315",
   "metadata": {},
   "outputs": [],
   "source": [
    "# Creating a pipeline with multiple steps\n",
    "from sklearn.pipeline import Pipeline"
   ]
  },
  {
   "cell_type": "code",
   "execution_count": 17,
   "id": "1ff6ec08",
   "metadata": {},
   "outputs": [
    {
     "name": "stdout",
     "output_type": "stream",
     "text": [
      "Classifier: Random Forest\n",
      "Accuracy: 0.9805194805194806\n",
      "Classification Report:\n",
      "              precision    recall  f1-score   support\n",
      "\n",
      "           0       0.96      1.00      0.98       159\n",
      "           1       1.00      0.96      0.98       149\n",
      "\n",
      "    accuracy                           0.98       308\n",
      "   macro avg       0.98      0.98      0.98       308\n",
      "weighted avg       0.98      0.98      0.98       308\n",
      "\n",
      "--------------------------------------------------\n",
      "Classifier: SVM\n",
      "Accuracy: 0.8896103896103896\n",
      "Classification Report:\n",
      "              precision    recall  f1-score   support\n",
      "\n",
      "           0       0.92      0.86      0.89       159\n",
      "           1       0.86      0.92      0.89       149\n",
      "\n",
      "    accuracy                           0.89       308\n",
      "   macro avg       0.89      0.89      0.89       308\n",
      "weighted avg       0.89      0.89      0.89       308\n",
      "\n",
      "--------------------------------------------------\n",
      "Classifier: K-Nearest Neighbors\n",
      "Accuracy: 0.935064935064935\n",
      "Classification Report:\n",
      "              precision    recall  f1-score   support\n",
      "\n",
      "           0       0.94      0.94      0.94       159\n",
      "           1       0.93      0.93      0.93       149\n",
      "\n",
      "    accuracy                           0.94       308\n",
      "   macro avg       0.93      0.93      0.93       308\n",
      "weighted avg       0.94      0.94      0.94       308\n",
      "\n",
      "--------------------------------------------------\n",
      "Classifier: Decision Tree\n",
      "Accuracy: 0.9707792207792207\n",
      "Classification Report:\n",
      "              precision    recall  f1-score   support\n",
      "\n",
      "           0       0.95      1.00      0.97       159\n",
      "           1       1.00      0.94      0.97       149\n",
      "\n",
      "    accuracy                           0.97       308\n",
      "   macro avg       0.97      0.97      0.97       308\n",
      "weighted avg       0.97      0.97      0.97       308\n",
      "\n",
      "--------------------------------------------------\n",
      "Classifier: Logistic Regression\n",
      "Accuracy: 0.8051948051948052\n",
      "Classification Report:\n",
      "              precision    recall  f1-score   support\n",
      "\n",
      "           0       0.86      0.75      0.80       159\n",
      "           1       0.76      0.87      0.81       149\n",
      "\n",
      "    accuracy                           0.81       308\n",
      "   macro avg       0.81      0.81      0.80       308\n",
      "weighted avg       0.81      0.81      0.80       308\n",
      "\n",
      "--------------------------------------------------\n"
     ]
    }
   ],
   "source": [
    "# Defining a list of classifiers to test\n",
    "classifiers = [\n",
    "    ('Random Forest', RandomForestClassifier()),\n",
    "    ('SVM', SVC()),\n",
    "    ('K-Nearest Neighbors', KNeighborsClassifier(n_neighbors=3)),\n",
    "    ('Decision Tree', DecisionTreeClassifier()),\n",
    "    ('Logistic Regression', LogisticRegression())\n",
    "]\n",
    "\n",
    "# Iterate through each classifier, create a pipeline, and evaluate it\n",
    "for clf_name, classifier in classifiers:\n",
    "    # Create a pipeline with multiple steps\n",
    "    steps = [\n",
    "        ('scaler', StandardScaler()),  # Standardize the features\n",
    "        ('classifier', classifier)  # Classification model\n",
    "    ]\n",
    "\n",
    "    # Create the pipeline\n",
    "    pipeline = Pipeline(steps)\n",
    "\n",
    "    # Fit the pipeline on the training data\n",
    "    pipeline.fit(X_train, y_train)\n",
    "\n",
    "    # Make predictions on the test data\n",
    "    y_pred = pipeline.predict(X_test)\n",
    "\n",
    "    # Evaluate the model\n",
    "    accuracy = accuracy_score(y_test, y_pred)\n",
    "    report = classification_report(y_test, y_pred)\n",
    "\n",
    "    print(f'Classifier: {clf_name}')\n",
    "    print(f'Accuracy: {accuracy}')\n",
    "    print(f'Classification Report:\\n{report}')\n",
    "    print('-' * 50)"
   ]
  },
  {
   "cell_type": "markdown",
   "id": "b00e615a",
   "metadata": {},
   "source": [
    "**Great, by considering above evaluation Random forest performed very well so i going to store random forest model for future predictions.**"
   ]
  },
  {
   "cell_type": "code",
   "execution_count": 20,
   "id": "96dcd217",
   "metadata": {},
   "outputs": [],
   "source": [
    "from sklearn.metrics import accuracy_score, classification_report, confusion_matrix"
   ]
  },
  {
   "cell_type": "code",
   "execution_count": 21,
   "id": "2f5218b4",
   "metadata": {},
   "outputs": [],
   "source": [
    "# Creating a random forest classifier\n",
    "random_forest = RandomForestClassifier()\n",
    "\n",
    "# Training the model on the training data\n",
    "random_forest.fit(X_train, y_train)\n",
    "\n",
    "# Making predictions\n",
    "y_pred_rf = random_forest.predict(X_test)"
   ]
  },
  {
   "cell_type": "code",
   "execution_count": 22,
   "id": "fa20e309",
   "metadata": {},
   "outputs": [],
   "source": [
    "accuracy_rf = accuracy_score(y_test, y_pred_rf)\n",
    "conf_matrix_rf = confusion_matrix(y_test, y_pred_rf)\n",
    "classification_rep_rf = classification_report(y_test, y_pred_rf)"
   ]
  },
  {
   "cell_type": "code",
   "execution_count": 24,
   "id": "d4a088bd",
   "metadata": {},
   "outputs": [],
   "source": [
    "import seaborn as sns\n",
    "import matplotlib.pyplot as plt"
   ]
  },
  {
   "cell_type": "code",
   "execution_count": 26,
   "id": "26233622",
   "metadata": {},
   "outputs": [
    {
     "data": {
      "image/png": "[encoded data removed]",
      "text/plain": [
       "<Figure size 800x600 with 2 Axes>"
      ]
     },
     "metadata": {},
     "output_type": "display_data"
    }
   ],
   "source": [
    "# Defining class labels\n",
    "class_labels = [\"Class 0\", \"Class 1\"]\n",
    "\n",
    "# Creating a Seaborn heatmap\n",
    "plt.figure(figsize=(8, 6))  # Adjust the figure size as needed\n",
    "sns.set(font_scale=1.2)  # Adjust font scale for labels\n",
    "sns.heatmap(conf_matrix_rf, annot=True, fmt=\"d\", cmap=\"Blues\", xticklabels=class_labels, yticklabels=class_labels)\n",
    "\n",
    "# Add labels and title\n",
    "plt.xlabel(\"Predicted\")\n",
    "plt.ylabel(\"Actual\")\n",
    "plt.title(\"Confusion Matrix\")\n",
    "\n",
    "# Show the heatmap\n",
    "plt.show()"
   ]
  },
  {
   "cell_type": "code",
   "execution_count": 28,
   "id": "b4ced616",
   "metadata": {},
   "outputs": [
    {
     "name": "stdout",
     "output_type": "stream",
     "text": [
      "              precision    recall  f1-score   support\n",
      "\n",
      "           0       0.96      1.00      0.98       159\n",
      "           1       1.00      0.96      0.98       149\n",
      "\n",
      "    accuracy                           0.98       308\n",
      "   macro avg       0.98      0.98      0.98       308\n",
      "weighted avg       0.98      0.98      0.98       308\n",
      "\n"
     ]
    }
   ],
   "source": [
    "print(classification_rep_rf)"
   ]
  },
  {
   "cell_type": "code",
   "execution_count": 29,
   "id": "7e288a74",
   "metadata": {},
   "outputs": [
    {
     "name": "stdout",
     "output_type": "stream",
     "text": [
      "Logistic Regression Accuracy: 0.9805194805194806\n"
     ]
    }
   ],
   "source": [
    "print(f\"Logistic Regression Accuracy: {accuracy_rf}\")"
   ]
  },
  {
   "cell_type": "markdown",
   "id": "752ab149",
   "metadata": {},
   "source": [
    "**Considering the above results, Random Forest Classifier performed well with accuracy of 98 percent. which is great.**"
   ]
  },
  {
   "cell_type": "markdown",
   "id": "4b157e5d",
   "metadata": {},
   "source": [
    "Dumping the Decision Tree Model for future utilization."
   ]
  },
  {
   "cell_type": "code",
   "execution_count": 30,
   "id": "681295b0",
   "metadata": {},
   "outputs": [],
   "source": [
    "import joblib"
   ]
  },
  {
   "cell_type": "code",
   "execution_count": 31,
   "id": "ebd2d07c",
   "metadata": {},
   "outputs": [
    {
     "data": {
      "text/plain": [
       "['random_forest_model.pkl']"
      ]
     },
     "execution_count": 31,
     "metadata": {},
     "output_type": "execute_result"
    }
   ],
   "source": [
    "# Saving the model\n",
    "joblib.dump(random_forest, 'random_forest_model.pkl')"
   ]
  },
  {
   "cell_type": "code",
   "execution_count": 32,
   "id": "2092de0e",
   "metadata": {},
   "outputs": [],
   "source": [
    "# loading the model\n",
    "loaded_rfm = joblib.load('random_forest_model.pkl')"
   ]
  },
  {
   "cell_type": "code",
   "execution_count": 33,
   "id": "54d30f50",
   "metadata": {},
   "outputs": [],
   "source": [
    "predictions = loaded_rfm.predict(X_test)"
   ]
  },
  {
   "cell_type": "code",
   "execution_count": 34,
   "id": "08fa0e79",
   "metadata": {},
   "outputs": [
    {
     "name": "stdout",
     "output_type": "stream",
     "text": [
      "Decision Tree Accuracy: 0.9805194805194806\n"
     ]
    }
   ],
   "source": [
    "# Evaluating accuracy \n",
    "accuracy = accuracy_score(y_test, predictions)\n",
    "print(f\"Decision Tree Accuracy: {accuracy}\")"
   ]
  },
  {
   "cell_type": "markdown",
   "id": "8a22b153",
   "metadata": {},
   "source": [
    "Great!!"
   ]
  },
  {
   "cell_type": "code",
   "execution_count": null,
   "id": "bf538dfc",
   "metadata": {},
   "outputs": [],
   "source": []
  }
 ],
 "metadata": {
  "kernelspec": {
   "display_name": "Python 3 (ipykernel)",
   "language": "python",
   "name": "python3"
  },
  "language_info": {
   "codemirror_mode": {
    "name": "ipython",
    "version": 3
   },
   "file_extension": ".py",
   "mimetype": "text/x-python",
   "name": "python",
   "nbconvert_exporter": "python",
   "pygments_lexer": "ipython3",
   "version": "3.9.13"
  }
 },
 "nbformat": 4,
 "nbformat_minor": 5
}
