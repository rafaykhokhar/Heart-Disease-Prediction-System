{
 "cells": [
  {
   "cell_type": "markdown",
   "id": "b548a940",
   "metadata": {},
   "source": [
    "##### Importing required librararies"
   ]
  },
  {
   "cell_type": "code",
   "execution_count": 1,
   "id": "f8b81443",
   "metadata": {},
   "outputs": [],
   "source": [
    "import pandas as pd\n",
    "import numpy as np"
   ]
  },
  {
   "cell_type": "markdown",
   "id": "88052c78",
   "metadata": {},
   "source": [
    "**Loading data set** "
   ]
  },
  {
   "cell_type": "code",
   "execution_count": 3,
   "id": "d9e77579",
   "metadata": {},
   "outputs": [],
   "source": [
    "df = pd.read_csv('heart.csv')"
   ]
  },
  {
   "cell_type": "code",
   "execution_count": 4,
   "id": "c587a6ac",
   "metadata": {},
   "outputs": [
    {
     "data": {
      "text/html": [
       "<div>\n",
       "<style scoped>\n",
       "    .dataframe tbody tr th:only-of-type {\n",
       "        vertical-align: middle;\n",
       "    }\n",
       "\n",
       "    .dataframe tbody tr th {\n",
       "        vertical-align: top;\n",
       "    }\n",
       "\n",
       "    .dataframe thead th {\n",
       "        text-align: right;\n",
       "    }\n",
       "</style>\n",
       "<table border=\"1\" class=\"dataframe\">\n",
       "  <thead>\n",
       "    <tr style=\"text-align: right;\">\n",
       "      <th></th>\n",
       "      <th>age</th>\n",
       "      <th>sex</th>\n",
       "      <th>cp</th>\n",
       "      <th>trestbps</th>\n",
       "      <th>chol</th>\n",
       "      <th>fbs</th>\n",
       "      <th>restecg</th>\n",
       "      <th>thalach</th>\n",
       "      <th>exang</th>\n",
       "      <th>oldpeak</th>\n",
       "      <th>slope</th>\n",
       "      <th>ca</th>\n",
       "      <th>thal</th>\n",
       "      <th>target</th>\n",
       "    </tr>\n",
       "  </thead>\n",
       "  <tbody>\n",
       "    <tr>\n",
       "      <th>0</th>\n",
       "      <td>52</td>\n",
       "      <td>1</td>\n",
       "      <td>0</td>\n",
       "      <td>125</td>\n",
       "      <td>212</td>\n",
       "      <td>0</td>\n",
       "      <td>1</td>\n",
       "      <td>168</td>\n",
       "      <td>0</td>\n",
       "      <td>1.0</td>\n",
       "      <td>2</td>\n",
       "      <td>2</td>\n",
       "      <td>3</td>\n",
       "      <td>0</td>\n",
       "    </tr>\n",
       "    <tr>\n",
       "      <th>1</th>\n",
       "      <td>53</td>\n",
       "      <td>1</td>\n",
       "      <td>0</td>\n",
       "      <td>140</td>\n",
       "      <td>203</td>\n",
       "      <td>1</td>\n",
       "      <td>0</td>\n",
       "      <td>155</td>\n",
       "      <td>1</td>\n",
       "      <td>3.1</td>\n",
       "      <td>0</td>\n",
       "      <td>0</td>\n",
       "      <td>3</td>\n",
       "      <td>0</td>\n",
       "    </tr>\n",
       "    <tr>\n",
       "      <th>2</th>\n",
       "      <td>70</td>\n",
       "      <td>1</td>\n",
       "      <td>0</td>\n",
       "      <td>145</td>\n",
       "      <td>174</td>\n",
       "      <td>0</td>\n",
       "      <td>1</td>\n",
       "      <td>125</td>\n",
       "      <td>1</td>\n",
       "      <td>2.6</td>\n",
       "      <td>0</td>\n",
       "      <td>0</td>\n",
       "      <td>3</td>\n",
       "      <td>0</td>\n",
       "    </tr>\n",
       "    <tr>\n",
       "      <th>3</th>\n",
       "      <td>61</td>\n",
       "      <td>1</td>\n",
       "      <td>0</td>\n",
       "      <td>148</td>\n",
       "      <td>203</td>\n",
       "      <td>0</td>\n",
       "      <td>1</td>\n",
       "      <td>161</td>\n",
       "      <td>0</td>\n",
       "      <td>0.0</td>\n",
       "      <td>2</td>\n",
       "      <td>1</td>\n",
       "      <td>3</td>\n",
       "      <td>0</td>\n",
       "    </tr>\n",
       "    <tr>\n",
       "      <th>4</th>\n",
       "      <td>62</td>\n",
       "      <td>0</td>\n",
       "      <td>0</td>\n",
       "      <td>138</td>\n",
       "      <td>294</td>\n",
       "      <td>1</td>\n",
       "      <td>1</td>\n",
       "      <td>106</td>\n",
       "      <td>0</td>\n",
       "      <td>1.9</td>\n",
       "      <td>1</td>\n",
       "      <td>3</td>\n",
       "      <td>2</td>\n",
       "      <td>0</td>\n",
       "    </tr>\n",
       "  </tbody>\n",
       "</table>\n",
       "</div>"
      ],
      "text/plain": [
       "   age  sex  cp  trestbps  chol  fbs  restecg  thalach  exang  oldpeak  slope  \\\n",
       "0   52    1   0       125   212    0        1      168      0      1.0      2   \n",
       "1   53    1   0       140   203    1        0      155      1      3.1      0   \n",
       "2   70    1   0       145   174    0        1      125      1      2.6      0   \n",
       "3   61    1   0       148   203    0        1      161      0      0.0      2   \n",
       "4   62    0   0       138   294    1        1      106      0      1.9      1   \n",
       "\n",
       "   ca  thal  target  \n",
       "0   2     3       0  \n",
       "1   0     3       0  \n",
       "2   0     3       0  \n",
       "3   1     3       0  \n",
       "4   3     2       0  "
      ]
     },
     "execution_count": 4,
     "metadata": {},
     "output_type": "execute_result"
    }
   ],
   "source": [
    "df.head()"
   ]
  },
  {
   "cell_type": "markdown",
   "id": "bee21669",
   "metadata": {},
   "source": [
    "**Identifying for null value**"
   ]
  },
  {
   "cell_type": "code",
   "execution_count": 5,
   "id": "c6c3ed32",
   "metadata": {},
   "outputs": [
    {
     "data": {
      "text/plain": [
       "age         0\n",
       "sex         0\n",
       "cp          0\n",
       "trestbps    0\n",
       "chol        0\n",
       "fbs         0\n",
       "restecg     0\n",
       "thalach     0\n",
       "exang       0\n",
       "oldpeak     0\n",
       "slope       0\n",
       "ca          0\n",
       "thal        0\n",
       "target      0\n",
       "dtype: int64"
      ]
     },
     "execution_count": 5,
     "metadata": {},
     "output_type": "execute_result"
    }
   ],
   "source": [
    "df.isnull().sum()"
   ]
  },
  {
   "cell_type": "markdown",
   "id": "942c5ff2",
   "metadata": {},
   "source": [
    "Great data have no null values"
   ]
  },
  {
   "cell_type": "markdown",
   "id": "2e786b95",
   "metadata": {},
   "source": [
    "**Attribute Information**\n",
    "1. age\n",
    "2. sex\n",
    "3. chest pain type (4 values)\n",
    "4. resting blood pressure\n",
    "5. serum cholestoral in mg/dl\n",
    "6. fasting blood sugar > 120 mg/dl\n",
    "7. resting electrocardiographic results (values 0,1,2)\n",
    "8. maximum heart rate achieved\n",
    "9. exercise induced angina\n",
    "10. oldpeak = ST depression induced by exercise relative to rest\n",
    "11. the slope of the peak exercise ST segment\n",
    "12. number of major vessels (0-3) colored by flourosopy\n",
    "13. thal: 0 = normal; 1 = fixed defect; 2 = reversable defect"
   ]
  },
  {
   "cell_type": "markdown",
   "id": "bb5a34d9",
   "metadata": {},
   "source": [
    "### Normalizing data"
   ]
  },
  {
   "cell_type": "markdown",
   "id": "0db78590",
   "metadata": {},
   "source": [
    "**1. age**"
   ]
  },
  {
   "cell_type": "code",
   "execution_count": 7,
   "id": "9842f5d4",
   "metadata": {},
   "outputs": [
    {
     "data": {
      "text/plain": [
       "58    68\n",
       "57    57\n",
       "54    53\n",
       "59    46\n",
       "52    43\n",
       "51    39\n",
       "56    39\n",
       "62    37\n",
       "60    37\n",
       "44    36\n",
       "64    34\n",
       "41    32\n",
       "63    32\n",
       "67    31\n",
       "61    31\n",
       "55    30\n",
       "65    27\n",
       "43    26\n",
       "42    26\n",
       "53    26\n",
       "66    25\n",
       "45    25\n",
       "48    23\n",
       "46    23\n",
       "50    21\n",
       "47    18\n",
       "49    17\n",
       "35    15\n",
       "39    14\n",
       "70    14\n",
       "68    12\n",
       "38    12\n",
       "71    11\n",
       "40    11\n",
       "69     9\n",
       "37     6\n",
       "34     6\n",
       "29     4\n",
       "76     3\n",
       "77     3\n",
       "74     3\n",
       "Name: age, dtype: int64"
      ]
     },
     "execution_count": 7,
     "metadata": {},
     "output_type": "execute_result"
    }
   ],
   "source": [
    "df['age'].value_counts()"
   ]
  },
  {
   "cell_type": "code",
   "execution_count": 8,
   "id": "52e32c77",
   "metadata": {},
   "outputs": [],
   "source": [
    "# replace (original value) by (original value)/(maximum value)\n",
    "df['age'] = df['age']/df['age'].max()"
   ]
  },
  {
   "cell_type": "code",
   "execution_count": 9,
   "id": "ff141521",
   "metadata": {},
   "outputs": [
    {
     "data": {
      "text/plain": [
       "0.753247    68\n",
       "0.740260    57\n",
       "0.701299    53\n",
       "0.766234    46\n",
       "0.675325    43\n",
       "0.662338    39\n",
       "0.727273    39\n",
       "0.805195    37\n",
       "0.779221    37\n",
       "0.571429    36\n",
       "0.831169    34\n",
       "0.532468    32\n",
       "0.818182    32\n",
       "0.870130    31\n",
       "0.792208    31\n",
       "0.714286    30\n",
       "0.844156    27\n",
       "0.558442    26\n",
       "0.545455    26\n",
       "0.688312    26\n",
       "0.857143    25\n",
       "0.584416    25\n",
       "0.623377    23\n",
       "0.597403    23\n",
       "0.649351    21\n",
       "0.610390    18\n",
       "0.636364    17\n",
       "0.454545    15\n",
       "0.506494    14\n",
       "0.909091    14\n",
       "0.883117    12\n",
       "0.493506    12\n",
       "0.922078    11\n",
       "0.519481    11\n",
       "0.896104     9\n",
       "0.480519     6\n",
       "0.441558     6\n",
       "0.376623     4\n",
       "0.987013     3\n",
       "1.000000     3\n",
       "0.961039     3\n",
       "Name: age, dtype: int64"
      ]
     },
     "execution_count": 9,
     "metadata": {},
     "output_type": "execute_result"
    }
   ],
   "source": [
    "df['age'].value_counts()"
   ]
  },
  {
   "cell_type": "markdown",
   "id": "2723191d",
   "metadata": {},
   "source": [
    "**2. sex**"
   ]
  },
  {
   "cell_type": "code",
   "execution_count": 10,
   "id": "58e6f3fa",
   "metadata": {},
   "outputs": [
    {
     "data": {
      "text/plain": [
       "1    713\n",
       "0    312\n",
       "Name: sex, dtype: int64"
      ]
     },
     "execution_count": 10,
     "metadata": {},
     "output_type": "execute_result"
    }
   ],
   "source": [
    "df['sex'].value_counts()"
   ]
  },
  {
   "cell_type": "markdown",
   "id": "801680f7",
   "metadata": {},
   "source": [
    "No need to normalize this attribute"
   ]
  },
  {
   "cell_type": "markdown",
   "id": "789f1d2d",
   "metadata": {},
   "source": [
    "**3. cp**"
   ]
  },
  {
   "cell_type": "code",
   "execution_count": 12,
   "id": "4a53fe3a",
   "metadata": {},
   "outputs": [
    {
     "data": {
      "text/plain": [
       "0    497\n",
       "2    284\n",
       "1    167\n",
       "3     77\n",
       "Name: cp, dtype: int64"
      ]
     },
     "execution_count": 12,
     "metadata": {},
     "output_type": "execute_result"
    }
   ],
   "source": [
    "df['cp'].value_counts()"
   ]
  },
  {
   "cell_type": "code",
   "execution_count": 13,
   "id": "91e8a282",
   "metadata": {},
   "outputs": [],
   "source": [
    "# replace (original value) by (original value)/(maximum value)\n",
    "df['cp'] = df['cp']/df['cp'].max()"
   ]
  },
  {
   "cell_type": "code",
   "execution_count": 14,
   "id": "646bc461",
   "metadata": {},
   "outputs": [
    {
     "data": {
      "text/plain": [
       "0.000000    497\n",
       "0.666667    284\n",
       "0.333333    167\n",
       "1.000000     77\n",
       "Name: cp, dtype: int64"
      ]
     },
     "execution_count": 14,
     "metadata": {},
     "output_type": "execute_result"
    }
   ],
   "source": [
    "df['cp'].value_counts()"
   ]
  },
  {
   "cell_type": "markdown",
   "id": "1705c53f",
   "metadata": {},
   "source": [
    "**4. trestbps**"
   ]
  },
  {
   "cell_type": "code",
   "execution_count": 15,
   "id": "ab0baefd",
   "metadata": {},
   "outputs": [
    {
     "data": {
      "text/plain": [
       "120    128\n",
       "130    123\n",
       "140    107\n",
       "110     64\n",
       "150     55\n",
       "138     45\n",
       "128     39\n",
       "125     38\n",
       "160     36\n",
       "112     30\n",
       "132     28\n",
       "118     24\n",
       "108     21\n",
       "124     20\n",
       "135     20\n",
       "145     17\n",
       "134     17\n",
       "152     17\n",
       "170     15\n",
       "122     14\n",
       "100     14\n",
       "136     11\n",
       "126     10\n",
       "180     10\n",
       "142      9\n",
       "115      9\n",
       "105      9\n",
       "146      8\n",
       "148      7\n",
       "178      7\n",
       "94       7\n",
       "144      6\n",
       "102      6\n",
       "154      4\n",
       "117      4\n",
       "165      4\n",
       "200      4\n",
       "114      4\n",
       "123      4\n",
       "192      3\n",
       "106      3\n",
       "104      3\n",
       "129      3\n",
       "174      3\n",
       "155      3\n",
       "172      3\n",
       "164      3\n",
       "156      3\n",
       "101      3\n",
       "Name: trestbps, dtype: int64"
      ]
     },
     "execution_count": 15,
     "metadata": {},
     "output_type": "execute_result"
    }
   ],
   "source": [
    "df['trestbps'].value_counts()"
   ]
  },
  {
   "cell_type": "code",
   "execution_count": 16,
   "id": "76bdaa01",
   "metadata": {},
   "outputs": [],
   "source": [
    "# replace (original value) by (original value)/(maximum value)\n",
    "df['trestbps'] = df['trestbps']/df['trestbps'].max()"
   ]
  },
  {
   "cell_type": "code",
   "execution_count": 17,
   "id": "e31bbbb4",
   "metadata": {},
   "outputs": [
    {
     "data": {
      "text/plain": [
       "0.600    128\n",
       "0.650    123\n",
       "0.700    107\n",
       "0.550     64\n",
       "0.750     55\n",
       "0.690     45\n",
       "0.640     39\n",
       "0.625     38\n",
       "0.800     36\n",
       "0.560     30\n",
       "0.660     28\n",
       "0.590     24\n",
       "0.540     21\n",
       "0.620     20\n",
       "0.675     20\n",
       "0.725     17\n",
       "0.670     17\n",
       "0.760     17\n",
       "0.850     15\n",
       "0.610     14\n",
       "0.500     14\n",
       "0.680     11\n",
       "0.630     10\n",
       "0.900     10\n",
       "0.710      9\n",
       "0.575      9\n",
       "0.525      9\n",
       "0.730      8\n",
       "0.740      7\n",
       "0.890      7\n",
       "0.470      7\n",
       "0.720      6\n",
       "0.510      6\n",
       "0.770      4\n",
       "0.585      4\n",
       "0.825      4\n",
       "1.000      4\n",
       "0.570      4\n",
       "0.615      4\n",
       "0.960      3\n",
       "0.530      3\n",
       "0.520      3\n",
       "0.645      3\n",
       "0.870      3\n",
       "0.775      3\n",
       "0.860      3\n",
       "0.820      3\n",
       "0.780      3\n",
       "0.505      3\n",
       "Name: trestbps, dtype: int64"
      ]
     },
     "execution_count": 17,
     "metadata": {},
     "output_type": "execute_result"
    }
   ],
   "source": [
    "df['trestbps'].value_counts()"
   ]
  },
  {
   "cell_type": "markdown",
   "id": "f2285d16",
   "metadata": {},
   "source": [
    "**5. chol**"
   ]
  },
  {
   "cell_type": "code",
   "execution_count": 19,
   "id": "c34d4d29",
   "metadata": {},
   "outputs": [
    {
     "data": {
      "text/plain": [
       "204    21\n",
       "234    21\n",
       "197    19\n",
       "212    18\n",
       "254    17\n",
       "       ..\n",
       "164     3\n",
       "394     3\n",
       "215     3\n",
       "160     3\n",
       "141     3\n",
       "Name: chol, Length: 152, dtype: int64"
      ]
     },
     "execution_count": 19,
     "metadata": {},
     "output_type": "execute_result"
    }
   ],
   "source": [
    "df['chol'].value_counts()"
   ]
  },
  {
   "cell_type": "code",
   "execution_count": 20,
   "id": "0af35cbc",
   "metadata": {},
   "outputs": [],
   "source": [
    "# replace (original value) by (original value)/(maximum value)\n",
    "df['chol'] = df['chol']/df['chol'].max()"
   ]
  },
  {
   "cell_type": "code",
   "execution_count": 21,
   "id": "7172fc2b",
   "metadata": {},
   "outputs": [
    {
     "data": {
      "text/plain": [
       "0.361702    21\n",
       "0.414894    21\n",
       "0.349291    19\n",
       "0.375887    18\n",
       "0.450355    17\n",
       "            ..\n",
       "0.290780     3\n",
       "0.698582     3\n",
       "0.381206     3\n",
       "0.283688     3\n",
       "0.250000     3\n",
       "Name: chol, Length: 152, dtype: int64"
      ]
     },
     "execution_count": 21,
     "metadata": {},
     "output_type": "execute_result"
    }
   ],
   "source": [
    "df['chol'].value_counts()"
   ]
  },
  {
   "cell_type": "markdown",
   "id": "4b264685",
   "metadata": {},
   "source": [
    "**6. fbs**"
   ]
  },
  {
   "cell_type": "code",
   "execution_count": 22,
   "id": "1ea79e4a",
   "metadata": {},
   "outputs": [
    {
     "data": {
      "text/plain": [
       "0    872\n",
       "1    153\n",
       "Name: fbs, dtype: int64"
      ]
     },
     "execution_count": 22,
     "metadata": {},
     "output_type": "execute_result"
    }
   ],
   "source": [
    "df['fbs'].value_counts()"
   ]
  },
  {
   "cell_type": "markdown",
   "id": "9165bd28",
   "metadata": {},
   "source": [
    "No need to normalize this attribute"
   ]
  },
  {
   "cell_type": "markdown",
   "id": "49679bcc",
   "metadata": {},
   "source": [
    "**7. restecg**"
   ]
  },
  {
   "cell_type": "code",
   "execution_count": 23,
   "id": "37e0007d",
   "metadata": {},
   "outputs": [
    {
     "data": {
      "text/plain": [
       "1    513\n",
       "0    497\n",
       "2     15\n",
       "Name: restecg, dtype: int64"
      ]
     },
     "execution_count": 23,
     "metadata": {},
     "output_type": "execute_result"
    }
   ],
   "source": [
    "df['restecg'].value_counts()"
   ]
  },
  {
   "cell_type": "code",
   "execution_count": 24,
   "id": "245ee888",
   "metadata": {},
   "outputs": [],
   "source": [
    "# replace (original value) by (original value)/(maximum value)\n",
    "df['restecg'] = df['restecg']/df['restecg'].max()"
   ]
  },
  {
   "cell_type": "code",
   "execution_count": 25,
   "id": "cfcd0656",
   "metadata": {},
   "outputs": [
    {
     "data": {
      "text/plain": [
       "0.5    513\n",
       "0.0    497\n",
       "1.0     15\n",
       "Name: restecg, dtype: int64"
      ]
     },
     "execution_count": 25,
     "metadata": {},
     "output_type": "execute_result"
    }
   ],
   "source": [
    "df['restecg'].value_counts()"
   ]
  },
  {
   "cell_type": "markdown",
   "id": "4b176121",
   "metadata": {},
   "source": [
    "**8. thalach**"
   ]
  },
  {
   "cell_type": "code",
   "execution_count": 26,
   "id": "623feb0d",
   "metadata": {},
   "outputs": [
    {
     "data": {
      "text/plain": [
       "162    35\n",
       "160    31\n",
       "163    29\n",
       "173    28\n",
       "152    28\n",
       "       ..\n",
       "194     3\n",
       "185     3\n",
       "106     3\n",
       "88      3\n",
       "113     3\n",
       "Name: thalach, Length: 91, dtype: int64"
      ]
     },
     "execution_count": 26,
     "metadata": {},
     "output_type": "execute_result"
    }
   ],
   "source": [
    "df['thalach'].value_counts()"
   ]
  },
  {
   "cell_type": "code",
   "execution_count": 27,
   "id": "9992e3e9",
   "metadata": {},
   "outputs": [],
   "source": [
    "# replace (original value) by (original value)/(maximum value)\n",
    "df['thalach'] = df['thalach']/df['thalach'].max()"
   ]
  },
  {
   "cell_type": "code",
   "execution_count": 28,
   "id": "a69eaef1",
   "metadata": {},
   "outputs": [
    {
     "data": {
      "text/plain": [
       "0.801980    35\n",
       "0.792079    31\n",
       "0.806931    29\n",
       "0.856436    28\n",
       "0.752475    28\n",
       "            ..\n",
       "0.960396     3\n",
       "0.915842     3\n",
       "0.524752     3\n",
       "0.435644     3\n",
       "0.559406     3\n",
       "Name: thalach, Length: 91, dtype: int64"
      ]
     },
     "execution_count": 28,
     "metadata": {},
     "output_type": "execute_result"
    }
   ],
   "source": [
    "df['thalach'].value_counts()"
   ]
  },
  {
   "cell_type": "markdown",
   "id": "ea8d6c25",
   "metadata": {},
   "source": [
    "**9. exang**"
   ]
  },
  {
   "cell_type": "code",
   "execution_count": 29,
   "id": "43138f29",
   "metadata": {},
   "outputs": [
    {
     "data": {
      "text/plain": [
       "0    680\n",
       "1    345\n",
       "Name: exang, dtype: int64"
      ]
     },
     "execution_count": 29,
     "metadata": {},
     "output_type": "execute_result"
    }
   ],
   "source": [
    "df['exang'].value_counts()"
   ]
  },
  {
   "cell_type": "markdown",
   "id": "8c352aa3",
   "metadata": {},
   "source": [
    "No need to normalize this attribute"
   ]
  },
  {
   "cell_type": "markdown",
   "id": "4398436a",
   "metadata": {},
   "source": [
    "**10. oldpeak**"
   ]
  },
  {
   "cell_type": "code",
   "execution_count": 30,
   "id": "ef7ce313",
   "metadata": {},
   "outputs": [
    {
     "data": {
      "text/plain": [
       "0.0    329\n",
       "1.2     58\n",
       "1.0     51\n",
       "0.6     47\n",
       "0.8     44\n",
       "1.4     44\n",
       "1.6     37\n",
       "0.2     37\n",
       "1.8     36\n",
       "2.0     32\n",
       "0.4     30\n",
       "0.1     23\n",
       "2.8     22\n",
       "2.6     21\n",
       "3.0     17\n",
       "1.9     16\n",
       "1.5     16\n",
       "3.6     15\n",
       "0.5     15\n",
       "2.2     14\n",
       "4.0     12\n",
       "2.4     11\n",
       "0.3     10\n",
       "3.4     10\n",
       "0.9     10\n",
       "3.2      8\n",
       "2.5      7\n",
       "2.3      7\n",
       "4.2      6\n",
       "1.1      6\n",
       "4.4      4\n",
       "3.8      4\n",
       "5.6      4\n",
       "3.1      4\n",
       "1.3      3\n",
       "2.9      3\n",
       "2.1      3\n",
       "6.2      3\n",
       "0.7      3\n",
       "3.5      3\n",
       "Name: oldpeak, dtype: int64"
      ]
     },
     "execution_count": 30,
     "metadata": {},
     "output_type": "execute_result"
    }
   ],
   "source": [
    "df['oldpeak'].value_counts()"
   ]
  },
  {
   "cell_type": "code",
   "execution_count": 31,
   "id": "669b5f1a",
   "metadata": {},
   "outputs": [],
   "source": [
    "# replace (original value) by (original value)/(maximum value)\n",
    "df['oldpeak'] = df['oldpeak']/df['oldpeak'].max()"
   ]
  },
  {
   "cell_type": "code",
   "execution_count": 32,
   "id": "186763d0",
   "metadata": {},
   "outputs": [
    {
     "data": {
      "text/plain": [
       "0.000000    329\n",
       "0.193548     58\n",
       "0.161290     51\n",
       "0.096774     47\n",
       "0.129032     44\n",
       "0.225806     44\n",
       "0.258065     37\n",
       "0.032258     37\n",
       "0.290323     36\n",
       "0.322581     32\n",
       "0.064516     30\n",
       "0.016129     23\n",
       "0.451613     22\n",
       "0.419355     21\n",
       "0.483871     17\n",
       "0.306452     16\n",
       "0.241935     16\n",
       "0.580645     15\n",
       "0.080645     15\n",
       "0.354839     14\n",
       "0.645161     12\n",
       "0.387097     11\n",
       "0.048387     10\n",
       "0.548387     10\n",
       "0.145161     10\n",
       "0.516129      8\n",
       "0.403226      7\n",
       "0.370968      7\n",
       "0.677419      6\n",
       "0.177419      6\n",
       "0.709677      4\n",
       "0.612903      4\n",
       "0.903226      4\n",
       "0.500000      4\n",
       "0.209677      3\n",
       "0.467742      3\n",
       "0.338710      3\n",
       "1.000000      3\n",
       "0.112903      3\n",
       "0.564516      3\n",
       "Name: oldpeak, dtype: int64"
      ]
     },
     "execution_count": 32,
     "metadata": {},
     "output_type": "execute_result"
    }
   ],
   "source": [
    "df['oldpeak'].value_counts()"
   ]
  },
  {
   "cell_type": "markdown",
   "id": "97431836",
   "metadata": {},
   "source": [
    "**11. slope**"
   ]
  },
  {
   "cell_type": "code",
   "execution_count": 33,
   "id": "2aaf3a40",
   "metadata": {},
   "outputs": [
    {
     "data": {
      "text/plain": [
       "1    482\n",
       "2    469\n",
       "0     74\n",
       "Name: slope, dtype: int64"
      ]
     },
     "execution_count": 33,
     "metadata": {},
     "output_type": "execute_result"
    }
   ],
   "source": [
    "df['slope'].value_counts()"
   ]
  },
  {
   "cell_type": "code",
   "execution_count": 34,
   "id": "bab64c68",
   "metadata": {},
   "outputs": [
    {
     "data": {
      "text/plain": [
       "0.5    482\n",
       "1.0    469\n",
       "0.0     74\n",
       "Name: slope, dtype: int64"
      ]
     },
     "execution_count": 34,
     "metadata": {},
     "output_type": "execute_result"
    }
   ],
   "source": [
    "# replace (original value) by (original value)/(maximum value)\n",
    "df['slope'] = df['slope']/df['slope'].max()\n",
    "df['slope'].value_counts()"
   ]
  },
  {
   "cell_type": "markdown",
   "id": "2c4ff54d",
   "metadata": {},
   "source": [
    "**12. ca**"
   ]
  },
  {
   "cell_type": "code",
   "execution_count": 35,
   "id": "445f1a9d",
   "metadata": {},
   "outputs": [
    {
     "data": {
      "text/plain": [
       "0    578\n",
       "1    226\n",
       "2    134\n",
       "3     69\n",
       "4     18\n",
       "Name: ca, dtype: int64"
      ]
     },
     "execution_count": 35,
     "metadata": {},
     "output_type": "execute_result"
    }
   ],
   "source": [
    "df['ca'].value_counts()"
   ]
  },
  {
   "cell_type": "code",
   "execution_count": 36,
   "id": "27bf0c97",
   "metadata": {},
   "outputs": [
    {
     "data": {
      "text/plain": [
       "0.00    578\n",
       "0.25    226\n",
       "0.50    134\n",
       "0.75     69\n",
       "1.00     18\n",
       "Name: ca, dtype: int64"
      ]
     },
     "execution_count": 36,
     "metadata": {},
     "output_type": "execute_result"
    }
   ],
   "source": [
    "# replace (original value) by (original value)/(maximum value)\n",
    "df['ca'] = df['ca']/df['ca'].max()\n",
    "df['ca'].value_counts()"
   ]
  },
  {
   "cell_type": "markdown",
   "id": "0935ffb4",
   "metadata": {},
   "source": [
    "**13. thal**"
   ]
  },
  {
   "cell_type": "code",
   "execution_count": 37,
   "id": "4cce2fda",
   "metadata": {},
   "outputs": [
    {
     "data": {
      "text/plain": [
       "2    544\n",
       "3    410\n",
       "1     64\n",
       "0      7\n",
       "Name: thal, dtype: int64"
      ]
     },
     "execution_count": 37,
     "metadata": {},
     "output_type": "execute_result"
    }
   ],
   "source": [
    "df['thal'].value_counts()"
   ]
  },
  {
   "cell_type": "code",
   "execution_count": 38,
   "id": "470ec0c9",
   "metadata": {},
   "outputs": [
    {
     "data": {
      "text/plain": [
       "0.666667    544\n",
       "1.000000    410\n",
       "0.333333     64\n",
       "0.000000      7\n",
       "Name: thal, dtype: int64"
      ]
     },
     "execution_count": 38,
     "metadata": {},
     "output_type": "execute_result"
    }
   ],
   "source": [
    "# replace (original value) by (original value)/(maximum value)\n",
    "df['thal'] = df['thal']/df['thal'].max()\n",
    "df['thal'].value_counts()"
   ]
  },
  {
   "cell_type": "markdown",
   "id": "91189361",
   "metadata": {},
   "source": [
    "### Analyzing correlation between attributes"
   ]
  },
  {
   "cell_type": "code",
   "execution_count": 39,
   "id": "f3b42ff1",
   "metadata": {},
   "outputs": [
    {
     "data": {
      "text/html": [
       "<div>\n",
       "<style scoped>\n",
       "    .dataframe tbody tr th:only-of-type {\n",
       "        vertical-align: middle;\n",
       "    }\n",
       "\n",
       "    .dataframe tbody tr th {\n",
       "        vertical-align: top;\n",
       "    }\n",
       "\n",
       "    .dataframe thead th {\n",
       "        text-align: right;\n",
       "    }\n",
       "</style>\n",
       "<table border=\"1\" class=\"dataframe\">\n",
       "  <thead>\n",
       "    <tr style=\"text-align: right;\">\n",
       "      <th></th>\n",
       "      <th>age</th>\n",
       "      <th>sex</th>\n",
       "      <th>cp</th>\n",
       "      <th>trestbps</th>\n",
       "      <th>chol</th>\n",
       "      <th>fbs</th>\n",
       "      <th>restecg</th>\n",
       "      <th>thalach</th>\n",
       "      <th>exang</th>\n",
       "      <th>oldpeak</th>\n",
       "      <th>slope</th>\n",
       "      <th>ca</th>\n",
       "      <th>thal</th>\n",
       "      <th>target</th>\n",
       "    </tr>\n",
       "  </thead>\n",
       "  <tbody>\n",
       "    <tr>\n",
       "      <th>0</th>\n",
       "      <td>0.675325</td>\n",
       "      <td>1</td>\n",
       "      <td>0.0</td>\n",
       "      <td>0.625</td>\n",
       "      <td>0.375887</td>\n",
       "      <td>0</td>\n",
       "      <td>0.5</td>\n",
       "      <td>0.831683</td>\n",
       "      <td>0</td>\n",
       "      <td>0.161290</td>\n",
       "      <td>1.0</td>\n",
       "      <td>0.50</td>\n",
       "      <td>1.000000</td>\n",
       "      <td>0</td>\n",
       "    </tr>\n",
       "    <tr>\n",
       "      <th>1</th>\n",
       "      <td>0.688312</td>\n",
       "      <td>1</td>\n",
       "      <td>0.0</td>\n",
       "      <td>0.700</td>\n",
       "      <td>0.359929</td>\n",
       "      <td>1</td>\n",
       "      <td>0.0</td>\n",
       "      <td>0.767327</td>\n",
       "      <td>1</td>\n",
       "      <td>0.500000</td>\n",
       "      <td>0.0</td>\n",
       "      <td>0.00</td>\n",
       "      <td>1.000000</td>\n",
       "      <td>0</td>\n",
       "    </tr>\n",
       "    <tr>\n",
       "      <th>2</th>\n",
       "      <td>0.909091</td>\n",
       "      <td>1</td>\n",
       "      <td>0.0</td>\n",
       "      <td>0.725</td>\n",
       "      <td>0.308511</td>\n",
       "      <td>0</td>\n",
       "      <td>0.5</td>\n",
       "      <td>0.618812</td>\n",
       "      <td>1</td>\n",
       "      <td>0.419355</td>\n",
       "      <td>0.0</td>\n",
       "      <td>0.00</td>\n",
       "      <td>1.000000</td>\n",
       "      <td>0</td>\n",
       "    </tr>\n",
       "    <tr>\n",
       "      <th>3</th>\n",
       "      <td>0.792208</td>\n",
       "      <td>1</td>\n",
       "      <td>0.0</td>\n",
       "      <td>0.740</td>\n",
       "      <td>0.359929</td>\n",
       "      <td>0</td>\n",
       "      <td>0.5</td>\n",
       "      <td>0.797030</td>\n",
       "      <td>0</td>\n",
       "      <td>0.000000</td>\n",
       "      <td>1.0</td>\n",
       "      <td>0.25</td>\n",
       "      <td>1.000000</td>\n",
       "      <td>0</td>\n",
       "    </tr>\n",
       "    <tr>\n",
       "      <th>4</th>\n",
       "      <td>0.805195</td>\n",
       "      <td>0</td>\n",
       "      <td>0.0</td>\n",
       "      <td>0.690</td>\n",
       "      <td>0.521277</td>\n",
       "      <td>1</td>\n",
       "      <td>0.5</td>\n",
       "      <td>0.524752</td>\n",
       "      <td>0</td>\n",
       "      <td>0.306452</td>\n",
       "      <td>0.5</td>\n",
       "      <td>0.75</td>\n",
       "      <td>0.666667</td>\n",
       "      <td>0</td>\n",
       "    </tr>\n",
       "  </tbody>\n",
       "</table>\n",
       "</div>"
      ],
      "text/plain": [
       "        age  sex   cp  trestbps      chol  fbs  restecg   thalach  exang  \\\n",
       "0  0.675325    1  0.0     0.625  0.375887    0      0.5  0.831683      0   \n",
       "1  0.688312    1  0.0     0.700  0.359929    1      0.0  0.767327      1   \n",
       "2  0.909091    1  0.0     0.725  0.308511    0      0.5  0.618812      1   \n",
       "3  0.792208    1  0.0     0.740  0.359929    0      0.5  0.797030      0   \n",
       "4  0.805195    0  0.0     0.690  0.521277    1      0.5  0.524752      0   \n",
       "\n",
       "    oldpeak  slope    ca      thal  target  \n",
       "0  0.161290    1.0  0.50  1.000000       0  \n",
       "1  0.500000    0.0  0.00  1.000000       0  \n",
       "2  0.419355    0.0  0.00  1.000000       0  \n",
       "3  0.000000    1.0  0.25  1.000000       0  \n",
       "4  0.306452    0.5  0.75  0.666667       0  "
      ]
     },
     "execution_count": 39,
     "metadata": {},
     "output_type": "execute_result"
    }
   ],
   "source": [
    "df.head()"
   ]
  },
  {
   "cell_type": "code",
   "execution_count": 46,
   "id": "b24d5e1a",
   "metadata": {},
   "outputs": [
    {
     "data": {
      "text/html": [
       "<div>\n",
       "<style scoped>\n",
       "    .dataframe tbody tr th:only-of-type {\n",
       "        vertical-align: middle;\n",
       "    }\n",
       "\n",
       "    .dataframe tbody tr th {\n",
       "        vertical-align: top;\n",
       "    }\n",
       "\n",
       "    .dataframe thead th {\n",
       "        text-align: right;\n",
       "    }\n",
       "</style>\n",
       "<table border=\"1\" class=\"dataframe\">\n",
       "  <thead>\n",
       "    <tr style=\"text-align: right;\">\n",
       "      <th></th>\n",
       "      <th>age</th>\n",
       "      <th>sex</th>\n",
       "      <th>cp</th>\n",
       "      <th>trestbps</th>\n",
       "      <th>chol</th>\n",
       "      <th>fbs</th>\n",
       "      <th>restecg</th>\n",
       "      <th>thalach</th>\n",
       "      <th>exang</th>\n",
       "      <th>oldpeak</th>\n",
       "      <th>slope</th>\n",
       "      <th>ca</th>\n",
       "      <th>thal</th>\n",
       "      <th>target</th>\n",
       "    </tr>\n",
       "  </thead>\n",
       "  <tbody>\n",
       "    <tr>\n",
       "      <th>age</th>\n",
       "      <td>1.000000</td>\n",
       "      <td>-0.103240</td>\n",
       "      <td>-0.071966</td>\n",
       "      <td>0.271121</td>\n",
       "      <td>0.219823</td>\n",
       "      <td>0.121243</td>\n",
       "      <td>-0.132696</td>\n",
       "      <td>-0.390227</td>\n",
       "      <td>0.088163</td>\n",
       "      <td>0.208137</td>\n",
       "      <td>-0.169105</td>\n",
       "      <td>0.271551</td>\n",
       "      <td>0.072297</td>\n",
       "      <td>-0.229324</td>\n",
       "    </tr>\n",
       "    <tr>\n",
       "      <th>sex</th>\n",
       "      <td>-0.103240</td>\n",
       "      <td>1.000000</td>\n",
       "      <td>-0.041119</td>\n",
       "      <td>-0.078974</td>\n",
       "      <td>-0.198258</td>\n",
       "      <td>0.027200</td>\n",
       "      <td>-0.055117</td>\n",
       "      <td>-0.049365</td>\n",
       "      <td>0.139157</td>\n",
       "      <td>0.084687</td>\n",
       "      <td>-0.026666</td>\n",
       "      <td>0.111729</td>\n",
       "      <td>0.198424</td>\n",
       "      <td>-0.279501</td>\n",
       "    </tr>\n",
       "    <tr>\n",
       "      <th>cp</th>\n",
       "      <td>-0.071966</td>\n",
       "      <td>-0.041119</td>\n",
       "      <td>1.000000</td>\n",
       "      <td>0.038177</td>\n",
       "      <td>-0.081641</td>\n",
       "      <td>0.079294</td>\n",
       "      <td>0.043581</td>\n",
       "      <td>0.306839</td>\n",
       "      <td>-0.401513</td>\n",
       "      <td>-0.174733</td>\n",
       "      <td>0.131633</td>\n",
       "      <td>-0.176206</td>\n",
       "      <td>-0.163341</td>\n",
       "      <td>0.434854</td>\n",
       "    </tr>\n",
       "    <tr>\n",
       "      <th>trestbps</th>\n",
       "      <td>0.271121</td>\n",
       "      <td>-0.078974</td>\n",
       "      <td>0.038177</td>\n",
       "      <td>1.000000</td>\n",
       "      <td>0.127977</td>\n",
       "      <td>0.181767</td>\n",
       "      <td>-0.123794</td>\n",
       "      <td>-0.039264</td>\n",
       "      <td>0.061197</td>\n",
       "      <td>0.187434</td>\n",
       "      <td>-0.120445</td>\n",
       "      <td>0.104554</td>\n",
       "      <td>0.059276</td>\n",
       "      <td>-0.138772</td>\n",
       "    </tr>\n",
       "    <tr>\n",
       "      <th>chol</th>\n",
       "      <td>0.219823</td>\n",
       "      <td>-0.198258</td>\n",
       "      <td>-0.081641</td>\n",
       "      <td>0.127977</td>\n",
       "      <td>1.000000</td>\n",
       "      <td>0.026917</td>\n",
       "      <td>-0.147410</td>\n",
       "      <td>-0.021772</td>\n",
       "      <td>0.067382</td>\n",
       "      <td>0.064880</td>\n",
       "      <td>-0.014248</td>\n",
       "      <td>0.074259</td>\n",
       "      <td>0.100244</td>\n",
       "      <td>-0.099966</td>\n",
       "    </tr>\n",
       "    <tr>\n",
       "      <th>fbs</th>\n",
       "      <td>0.121243</td>\n",
       "      <td>0.027200</td>\n",
       "      <td>0.079294</td>\n",
       "      <td>0.181767</td>\n",
       "      <td>0.026917</td>\n",
       "      <td>1.000000</td>\n",
       "      <td>-0.104051</td>\n",
       "      <td>-0.008866</td>\n",
       "      <td>0.049261</td>\n",
       "      <td>0.010859</td>\n",
       "      <td>-0.061902</td>\n",
       "      <td>0.137156</td>\n",
       "      <td>-0.042177</td>\n",
       "      <td>-0.041164</td>\n",
       "    </tr>\n",
       "    <tr>\n",
       "      <th>restecg</th>\n",
       "      <td>-0.132696</td>\n",
       "      <td>-0.055117</td>\n",
       "      <td>0.043581</td>\n",
       "      <td>-0.123794</td>\n",
       "      <td>-0.147410</td>\n",
       "      <td>-0.104051</td>\n",
       "      <td>1.000000</td>\n",
       "      <td>0.048411</td>\n",
       "      <td>-0.065606</td>\n",
       "      <td>-0.050114</td>\n",
       "      <td>0.086086</td>\n",
       "      <td>-0.078072</td>\n",
       "      <td>-0.020504</td>\n",
       "      <td>0.134468</td>\n",
       "    </tr>\n",
       "    <tr>\n",
       "      <th>thalach</th>\n",
       "      <td>-0.390227</td>\n",
       "      <td>-0.049365</td>\n",
       "      <td>0.306839</td>\n",
       "      <td>-0.039264</td>\n",
       "      <td>-0.021772</td>\n",
       "      <td>-0.008866</td>\n",
       "      <td>0.048411</td>\n",
       "      <td>1.000000</td>\n",
       "      <td>-0.380281</td>\n",
       "      <td>-0.349796</td>\n",
       "      <td>0.395308</td>\n",
       "      <td>-0.207888</td>\n",
       "      <td>-0.098068</td>\n",
       "      <td>0.422895</td>\n",
       "    </tr>\n",
       "    <tr>\n",
       "      <th>exang</th>\n",
       "      <td>0.088163</td>\n",
       "      <td>0.139157</td>\n",
       "      <td>-0.401513</td>\n",
       "      <td>0.061197</td>\n",
       "      <td>0.067382</td>\n",
       "      <td>0.049261</td>\n",
       "      <td>-0.065606</td>\n",
       "      <td>-0.380281</td>\n",
       "      <td>1.000000</td>\n",
       "      <td>0.310844</td>\n",
       "      <td>-0.267335</td>\n",
       "      <td>0.107849</td>\n",
       "      <td>0.197201</td>\n",
       "      <td>-0.438029</td>\n",
       "    </tr>\n",
       "    <tr>\n",
       "      <th>oldpeak</th>\n",
       "      <td>0.208137</td>\n",
       "      <td>0.084687</td>\n",
       "      <td>-0.174733</td>\n",
       "      <td>0.187434</td>\n",
       "      <td>0.064880</td>\n",
       "      <td>0.010859</td>\n",
       "      <td>-0.050114</td>\n",
       "      <td>-0.349796</td>\n",
       "      <td>0.310844</td>\n",
       "      <td>1.000000</td>\n",
       "      <td>-0.575189</td>\n",
       "      <td>0.221816</td>\n",
       "      <td>0.202672</td>\n",
       "      <td>-0.438441</td>\n",
       "    </tr>\n",
       "    <tr>\n",
       "      <th>slope</th>\n",
       "      <td>-0.169105</td>\n",
       "      <td>-0.026666</td>\n",
       "      <td>0.131633</td>\n",
       "      <td>-0.120445</td>\n",
       "      <td>-0.014248</td>\n",
       "      <td>-0.061902</td>\n",
       "      <td>0.086086</td>\n",
       "      <td>0.395308</td>\n",
       "      <td>-0.267335</td>\n",
       "      <td>-0.575189</td>\n",
       "      <td>1.000000</td>\n",
       "      <td>-0.073440</td>\n",
       "      <td>-0.094090</td>\n",
       "      <td>0.345512</td>\n",
       "    </tr>\n",
       "    <tr>\n",
       "      <th>ca</th>\n",
       "      <td>0.271551</td>\n",
       "      <td>0.111729</td>\n",
       "      <td>-0.176206</td>\n",
       "      <td>0.104554</td>\n",
       "      <td>0.074259</td>\n",
       "      <td>0.137156</td>\n",
       "      <td>-0.078072</td>\n",
       "      <td>-0.207888</td>\n",
       "      <td>0.107849</td>\n",
       "      <td>0.221816</td>\n",
       "      <td>-0.073440</td>\n",
       "      <td>1.000000</td>\n",
       "      <td>0.149014</td>\n",
       "      <td>-0.382085</td>\n",
       "    </tr>\n",
       "    <tr>\n",
       "      <th>thal</th>\n",
       "      <td>0.072297</td>\n",
       "      <td>0.198424</td>\n",
       "      <td>-0.163341</td>\n",
       "      <td>0.059276</td>\n",
       "      <td>0.100244</td>\n",
       "      <td>-0.042177</td>\n",
       "      <td>-0.020504</td>\n",
       "      <td>-0.098068</td>\n",
       "      <td>0.197201</td>\n",
       "      <td>0.202672</td>\n",
       "      <td>-0.094090</td>\n",
       "      <td>0.149014</td>\n",
       "      <td>1.000000</td>\n",
       "      <td>-0.337838</td>\n",
       "    </tr>\n",
       "    <tr>\n",
       "      <th>target</th>\n",
       "      <td>-0.229324</td>\n",
       "      <td>-0.279501</td>\n",
       "      <td>0.434854</td>\n",
       "      <td>-0.138772</td>\n",
       "      <td>-0.099966</td>\n",
       "      <td>-0.041164</td>\n",
       "      <td>0.134468</td>\n",
       "      <td>0.422895</td>\n",
       "      <td>-0.438029</td>\n",
       "      <td>-0.438441</td>\n",
       "      <td>0.345512</td>\n",
       "      <td>-0.382085</td>\n",
       "      <td>-0.337838</td>\n",
       "      <td>1.000000</td>\n",
       "    </tr>\n",
       "  </tbody>\n",
       "</table>\n",
       "</div>"
      ],
      "text/plain": [
       "               age       sex        cp  trestbps      chol       fbs  \\\n",
       "age       1.000000 -0.103240 -0.071966  0.271121  0.219823  0.121243   \n",
       "sex      -0.103240  1.000000 -0.041119 -0.078974 -0.198258  0.027200   \n",
       "cp       -0.071966 -0.041119  1.000000  0.038177 -0.081641  0.079294   \n",
       "trestbps  0.271121 -0.078974  0.038177  1.000000  0.127977  0.181767   \n",
       "chol      0.219823 -0.198258 -0.081641  0.127977  1.000000  0.026917   \n",
       "fbs       0.121243  0.027200  0.079294  0.181767  0.026917  1.000000   \n",
       "restecg  -0.132696 -0.055117  0.043581 -0.123794 -0.147410 -0.104051   \n",
       "thalach  -0.390227 -0.049365  0.306839 -0.039264 -0.021772 -0.008866   \n",
       "exang     0.088163  0.139157 -0.401513  0.061197  0.067382  0.049261   \n",
       "oldpeak   0.208137  0.084687 -0.174733  0.187434  0.064880  0.010859   \n",
       "slope    -0.169105 -0.026666  0.131633 -0.120445 -0.014248 -0.061902   \n",
       "ca        0.271551  0.111729 -0.176206  0.104554  0.074259  0.137156   \n",
       "thal      0.072297  0.198424 -0.163341  0.059276  0.100244 -0.042177   \n",
       "target   -0.229324 -0.279501  0.434854 -0.138772 -0.099966 -0.041164   \n",
       "\n",
       "           restecg   thalach     exang   oldpeak     slope        ca  \\\n",
       "age      -0.132696 -0.390227  0.088163  0.208137 -0.169105  0.271551   \n",
       "sex      -0.055117 -0.049365  0.139157  0.084687 -0.026666  0.111729   \n",
       "cp        0.043581  0.306839 -0.401513 -0.174733  0.131633 -0.176206   \n",
       "trestbps -0.123794 -0.039264  0.061197  0.187434 -0.120445  0.104554   \n",
       "chol     -0.147410 -0.021772  0.067382  0.064880 -0.014248  0.074259   \n",
       "fbs      -0.104051 -0.008866  0.049261  0.010859 -0.061902  0.137156   \n",
       "restecg   1.000000  0.048411 -0.065606 -0.050114  0.086086 -0.078072   \n",
       "thalach   0.048411  1.000000 -0.380281 -0.349796  0.395308 -0.207888   \n",
       "exang    -0.065606 -0.380281  1.000000  0.310844 -0.267335  0.107849   \n",
       "oldpeak  -0.050114 -0.349796  0.310844  1.000000 -0.575189  0.221816   \n",
       "slope     0.086086  0.395308 -0.267335 -0.575189  1.000000 -0.073440   \n",
       "ca       -0.078072 -0.207888  0.107849  0.221816 -0.073440  1.000000   \n",
       "thal     -0.020504 -0.098068  0.197201  0.202672 -0.094090  0.149014   \n",
       "target    0.134468  0.422895 -0.438029 -0.438441  0.345512 -0.382085   \n",
       "\n",
       "              thal    target  \n",
       "age       0.072297 -0.229324  \n",
       "sex       0.198424 -0.279501  \n",
       "cp       -0.163341  0.434854  \n",
       "trestbps  0.059276 -0.138772  \n",
       "chol      0.100244 -0.099966  \n",
       "fbs      -0.042177 -0.041164  \n",
       "restecg  -0.020504  0.134468  \n",
       "thalach  -0.098068  0.422895  \n",
       "exang     0.197201 -0.438029  \n",
       "oldpeak   0.202672 -0.438441  \n",
       "slope    -0.094090  0.345512  \n",
       "ca        0.149014 -0.382085  \n",
       "thal      1.000000 -0.337838  \n",
       "target   -0.337838  1.000000  "
      ]
     },
     "execution_count": 46,
     "metadata": {},
     "output_type": "execute_result"
    }
   ],
   "source": [
    "corr = df.corr()\n",
    "corr"
   ]
  },
  {
   "cell_type": "markdown",
   "id": "cd92936f",
   "metadata": {},
   "source": [
    "**Heatmap for understanding**"
   ]
  },
  {
   "cell_type": "markdown",
   "id": "96c301e5",
   "metadata": {},
   "source": [
    "###### Importing required libraries"
   ]
  },
  {
   "cell_type": "code",
   "execution_count": 41,
   "id": "c89eebd3",
   "metadata": {},
   "outputs": [],
   "source": [
    "import seaborn as sns\n",
    "import matplotlib.pyplot as plt"
   ]
  },
  {
   "cell_type": "code",
   "execution_count": 47,
   "id": "f6ad6843",
   "metadata": {},
   "outputs": [
    {
     "data": {
      "image/png": "[encoded data removed]",
      "text/plain": [
       "<Figure size 1000x800 with 2 Axes>"
      ]
     },
     "metadata": {},
     "output_type": "display_data"
    }
   ],
   "source": [
    "#Create a heatmap of the correlation matrix using Seaborn\n",
    "# Set a larger figure size\n",
    "plt.figure(figsize=(10, 8))  # Adjust the width and height as needed\n",
    "sns.heatmap(corr, cmap='coolwarm', annot=True, fmt=\".2f\")\n",
    "\n",
    "# Customize the plot if needed\n",
    "plt.title('Correlation Heatmap')\n",
    "plt.xlabel('X-axis')\n",
    "plt.ylabel('Y-axis')\n",
    "\n",
    "# Show the plot\n",
    "plt.show()"
   ]
  },
  {
   "cell_type": "markdown",
   "id": "33a72bb4",
   "metadata": {},
   "source": [
    "As from the above analyzation no feature is strongly co-related with target"
   ]
  },
  {
   "cell_type": "code",
   "execution_count": 48,
   "id": "a9d0b811",
   "metadata": {},
   "outputs": [],
   "source": [
    "# Saving data for model training and evaluation\n",
    "#df.to_csv('Model_data.csv')"
   ]
  },
  {
   "cell_type": "code",
   "execution_count": null,
   "id": "cbcf077d",
   "metadata": {},
   "outputs": [],
   "source": []
  }
 ],
 "metadata": {
  "kernelspec": {
   "display_name": "Python 3 (ipykernel)",
   "language": "python",
   "name": "python3"
  },
  "language_info": {
   "codemirror_mode": {
    "name": "ipython",
    "version": 3
   },
   "file_extension": ".py",
   "mimetype": "text/x-python",
   "name": "python",
   "nbconvert_exporter": "python",
   "pygments_lexer": "ipython3",
   "version": "3.9.13"
  }
 },
 "nbformat": 4,
 "nbformat_minor": 5
}
